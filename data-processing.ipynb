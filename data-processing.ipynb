{
 "cells": [
  {
   "cell_type": "code",
   "execution_count": 77,
   "id": "18c7408e",
   "metadata": {},
   "outputs": [],
   "source": [
    "import pandas as pd\n",
    "import plotly.express as px\n",
    "from datetime import datetime\n",
    "from collections import Counter\n",
    "import re"
   ]
  },
  {
   "cell_type": "markdown",
   "id": "5deb8e0a",
   "metadata": {},
   "source": [
    "## Acronyms & nomenclature\n",
    "* `Rec`: Réception (ou enregistrement).\n",
    "* `Inv`: Investigation (ou examen).\n",
    "\n",
    "## Sample size N = 110"
   ]
  },
  {
   "cell_type": "markdown",
   "id": "b284a44b",
   "metadata": {},
   "source": [
    "## 1. Read initial file sent to me"
   ]
  },
  {
   "cell_type": "code",
   "execution_count": 78,
   "id": "2e66f0c4",
   "metadata": {},
   "outputs": [
    {
     "name": "stdout",
     "output_type": "stream",
     "text": [
      "(110, 71)\n"
     ]
    },
    {
     "data": {
      "text/html": [
       "<div>\n",
       "<style scoped>\n",
       "    .dataframe tbody tr th:only-of-type {\n",
       "        vertical-align: middle;\n",
       "    }\n",
       "\n",
       "    .dataframe tbody tr th {\n",
       "        vertical-align: top;\n",
       "    }\n",
       "\n",
       "    .dataframe thead th {\n",
       "        text-align: right;\n",
       "    }\n",
       "</style>\n",
       "<table border=\"1\" class=\"dataframe\">\n",
       "  <thead>\n",
       "    <tr style=\"text-align: right;\">\n",
       "      <th></th>\n",
       "      <th>PatientID</th>\n",
       "      <th>DateRecInvIRM</th>\n",
       "      <th>ResultatIRMRecInv</th>\n",
       "      <th>PIRADSLesionRecInv</th>\n",
       "      <th>ResultatBiopsieRecInv</th>\n",
       "      <th>VolProstateIRM</th>\n",
       "      <th>PSA</th>\n",
       "      <th>Column8</th>\n",
       "      <th>2nd mri date</th>\n",
       "      <th>2nd mri resultat</th>\n",
       "      <th>...</th>\n",
       "      <th>all patients.age_capra</th>\n",
       "      <th>all patients.D28VolD90</th>\n",
       "      <th>all patients.D28VolV100</th>\n",
       "      <th>pet.PatientID</th>\n",
       "      <th>pet.DateRecInvRadiative</th>\n",
       "      <th>pet.TypeRecInvRadiative</th>\n",
       "      <th>pet.ResultatRecInvRadiative</th>\n",
       "      <th>date treatment.PatientId</th>\n",
       "      <th>date treatment.TypeTX</th>\n",
       "      <th>date treatment.DateBrachy</th>\n",
       "    </tr>\n",
       "  </thead>\n",
       "  <tbody>\n",
       "    <tr>\n",
       "      <th>0</th>\n",
       "      <td>5753253</td>\n",
       "      <td>2024-05-18</td>\n",
       "      <td>Positive</td>\n",
       "      <td>4.0</td>\n",
       "      <td>Positive</td>\n",
       "      <td>27.7</td>\n",
       "      <td>4.10</td>\n",
       "      <td>NaN</td>\n",
       "      <td>NaT</td>\n",
       "      <td>NaN</td>\n",
       "      <td>...</td>\n",
       "      <td>1</td>\n",
       "      <td>140.9</td>\n",
       "      <td>89.3</td>\n",
       "      <td>5753253.0</td>\n",
       "      <td>2024-09-12</td>\n",
       "      <td>PET ... type</td>\n",
       "      <td>Positif</td>\n",
       "      <td>5753253</td>\n",
       "      <td>Curietherapie LDR</td>\n",
       "      <td>2022-02-24</td>\n",
       "    </tr>\n",
       "    <tr>\n",
       "      <th>1</th>\n",
       "      <td>5725736</td>\n",
       "      <td>2024-01-13</td>\n",
       "      <td>Négative</td>\n",
       "      <td>NaN</td>\n",
       "      <td>NaN</td>\n",
       "      <td>NaN</td>\n",
       "      <td>6.00</td>\n",
       "      <td>NaN</td>\n",
       "      <td>NaT</td>\n",
       "      <td>NaN</td>\n",
       "      <td>...</td>\n",
       "      <td>1</td>\n",
       "      <td>141.3</td>\n",
       "      <td>89.6</td>\n",
       "      <td>NaN</td>\n",
       "      <td>NaT</td>\n",
       "      <td>NaN</td>\n",
       "      <td>NaN</td>\n",
       "      <td>5725736</td>\n",
       "      <td>Curietherapie LDR</td>\n",
       "      <td>2022-01-04</td>\n",
       "    </tr>\n",
       "    <tr>\n",
       "      <th>2</th>\n",
       "      <td>808919</td>\n",
       "      <td>2024-02-04</td>\n",
       "      <td>Négative</td>\n",
       "      <td>NaN</td>\n",
       "      <td>NaN</td>\n",
       "      <td>30.4</td>\n",
       "      <td>5.87</td>\n",
       "      <td>NaN</td>\n",
       "      <td>NaT</td>\n",
       "      <td>NaN</td>\n",
       "      <td>...</td>\n",
       "      <td>1</td>\n",
       "      <td>164.2</td>\n",
       "      <td>95.4</td>\n",
       "      <td>NaN</td>\n",
       "      <td>NaT</td>\n",
       "      <td>NaN</td>\n",
       "      <td>NaN</td>\n",
       "      <td>808919</td>\n",
       "      <td>Curietherapie LDR</td>\n",
       "      <td>2021-05-27</td>\n",
       "    </tr>\n",
       "    <tr>\n",
       "      <th>3</th>\n",
       "      <td>5687019</td>\n",
       "      <td>2023-11-18</td>\n",
       "      <td>Négative</td>\n",
       "      <td>3.0</td>\n",
       "      <td>Négative</td>\n",
       "      <td>18.0</td>\n",
       "      <td>4.20</td>\n",
       "      <td>NaN</td>\n",
       "      <td>NaT</td>\n",
       "      <td>NaN</td>\n",
       "      <td>...</td>\n",
       "      <td>1</td>\n",
       "      <td>157.0</td>\n",
       "      <td>94.2</td>\n",
       "      <td>NaN</td>\n",
       "      <td>NaT</td>\n",
       "      <td>NaN</td>\n",
       "      <td>NaN</td>\n",
       "      <td>5687019</td>\n",
       "      <td>Curietherapie LDR</td>\n",
       "      <td>2021-03-25</td>\n",
       "    </tr>\n",
       "    <tr>\n",
       "      <th>4</th>\n",
       "      <td>5339331</td>\n",
       "      <td>2023-06-24</td>\n",
       "      <td>Positive</td>\n",
       "      <td>NaN</td>\n",
       "      <td>NaN</td>\n",
       "      <td>28.0</td>\n",
       "      <td>3.78</td>\n",
       "      <td>NaN</td>\n",
       "      <td>NaT</td>\n",
       "      <td>NaN</td>\n",
       "      <td>...</td>\n",
       "      <td>1</td>\n",
       "      <td>159.0</td>\n",
       "      <td>96.0</td>\n",
       "      <td>5339331.0</td>\n",
       "      <td>2023-08-03</td>\n",
       "      <td>PET ... type</td>\n",
       "      <td>Positif</td>\n",
       "      <td>5339331</td>\n",
       "      <td>Curietherapie LDR</td>\n",
       "      <td>2021-03-11</td>\n",
       "    </tr>\n",
       "  </tbody>\n",
       "</table>\n",
       "<p>5 rows × 71 columns</p>\n",
       "</div>"
      ],
      "text/plain": [
       "   PatientID DateRecInvIRM ResultatIRMRecInv  PIRADSLesionRecInv  \\\n",
       "0    5753253    2024-05-18          Positive                 4.0   \n",
       "1    5725736    2024-01-13          Négative                 NaN   \n",
       "2     808919    2024-02-04          Négative                 NaN   \n",
       "3    5687019    2023-11-18          Négative                 3.0   \n",
       "4    5339331    2023-06-24          Positive                 NaN   \n",
       "\n",
       "  ResultatBiopsieRecInv  VolProstateIRM   PSA  Column8 2nd mri date  \\\n",
       "0              Positive            27.7  4.10      NaN          NaT   \n",
       "1                   NaN             NaN  6.00      NaN          NaT   \n",
       "2                   NaN            30.4  5.87      NaN          NaT   \n",
       "3              Négative            18.0  4.20      NaN          NaT   \n",
       "4                   NaN            28.0  3.78      NaN          NaT   \n",
       "\n",
       "  2nd mri resultat  ...  all patients.age_capra  all patients.D28VolD90  \\\n",
       "0              NaN  ...                       1                   140.9   \n",
       "1              NaN  ...                       1                   141.3   \n",
       "2              NaN  ...                       1                   164.2   \n",
       "3              NaN  ...                       1                   157.0   \n",
       "4              NaN  ...                       1                   159.0   \n",
       "\n",
       "   all patients.D28VolV100  pet.PatientID  pet.DateRecInvRadiative  \\\n",
       "0                     89.3      5753253.0               2024-09-12   \n",
       "1                     89.6            NaN                      NaT   \n",
       "2                     95.4            NaN                      NaT   \n",
       "3                     94.2            NaN                      NaT   \n",
       "4                     96.0      5339331.0               2023-08-03   \n",
       "\n",
       "  pet.TypeRecInvRadiative pet.ResultatRecInvRadiative  \\\n",
       "0            PET ... type                     Positif   \n",
       "1                     NaN                         NaN   \n",
       "2                     NaN                         NaN   \n",
       "3                     NaN                         NaN   \n",
       "4            PET ... type                     Positif   \n",
       "\n",
       "   date treatment.PatientId  date treatment.TypeTX  date treatment.DateBrachy  \n",
       "0                   5753253      Curietherapie LDR                 2022-02-24  \n",
       "1                   5725736      Curietherapie LDR                 2022-01-04  \n",
       "2                    808919      Curietherapie LDR                 2021-05-27  \n",
       "3                   5687019      Curietherapie LDR                 2021-03-25  \n",
       "4                   5339331      Curietherapie LDR                 2021-03-11  \n",
       "\n",
       "[5 rows x 71 columns]"
      ]
     },
     "execution_count": 78,
     "metadata": {},
     "output_type": "execute_result"
    }
   ],
   "source": [
    "df = pd.read_excel('Everything merged 18.12._new.xlsx')\n",
    "print(df.shape)\n",
    "df.head()"
   ]
  },
  {
   "cell_type": "markdown",
   "id": "8b86a311",
   "metadata": {},
   "source": [
    "## 2. Remove empty columns\n",
    "9 empty columns removed: `['Column8', 'Column12', 'Column15', 'Column18', 'Column19', '4th mri date', 'Column25', 'RecInvbiopsie.PSA', 'all patients.causedeces']`"
   ]
  },
  {
   "cell_type": "code",
   "execution_count": 79,
   "id": "461dc395",
   "metadata": {},
   "outputs": [
    {
     "name": "stdout",
     "output_type": "stream",
     "text": [
      "['Column8', 'Column12', 'Column15', 'Column18', 'Column19', '4th mri date', 'Column25', 'RecInvbiopsie.PSA', 'all patients.causedeces']\n"
     ]
    }
   ],
   "source": [
    "empty_cols = df.columns[df.isna().all()].tolist()\n",
    "print(empty_cols)"
   ]
  },
  {
   "cell_type": "code",
   "execution_count": 80,
   "id": "a20e03ec",
   "metadata": {},
   "outputs": [],
   "source": [
    "df = df.drop(columns=empty_cols)"
   ]
  },
  {
   "cell_type": "markdown",
   "id": "b88eec83",
   "metadata": {},
   "source": [
    "## 3. Remove duplicate columns\n",
    "3 duplicate columns removed: `['date treatment.TypeTX', 'date treatment.PatientId', 'all patients.PatientId']`"
   ]
  },
  {
   "cell_type": "code",
   "execution_count": 81,
   "id": "db6a25ea",
   "metadata": {},
   "outputs": [
    {
     "name": "stdout",
     "output_type": "stream",
     "text": [
      "PatientID EQUALS all patients.PatientId\n",
      "PatientID EQUALS date treatment.PatientId\n",
      "all patients.PatientId EQUALS date treatment.PatientId\n",
      "all patients.TypeTX EQUALS date treatment.TypeTX\n"
     ]
    }
   ],
   "source": [
    "duplicate_cols = df.T.duplicated(keep=False)  # `keep=False` marks all duplicates\n",
    "dup_col_names = df.columns[duplicate_cols].tolist() # Get the names of duplicate columns\n",
    "\n",
    "for i,dup in enumerate(dup_col_names):\n",
    "    for j in range(i+1,len(dup_col_names)):\n",
    "        if df[dup].equals(df[dup_col_names[j]]): print(f\"{dup} EQUALS {dup_col_names[j]}\")"
   ]
  },
  {
   "cell_type": "code",
   "execution_count": 82,
   "id": "1174b691",
   "metadata": {},
   "outputs": [
    {
     "name": "stdout",
     "output_type": "stream",
     "text": [
      "110\n"
     ]
    }
   ],
   "source": [
    "print(len(df['RecInvbiopsie.PatientID'].notna() & (df['RecInvbiopsie.PatientID'] == df['PatientID'])))"
   ]
  },
  {
   "cell_type": "code",
   "execution_count": 83,
   "id": "c147694b",
   "metadata": {},
   "outputs": [
    {
     "name": "stdout",
     "output_type": "stream",
     "text": [
      "110\n"
     ]
    }
   ],
   "source": [
    "print(len(df['RecInvbiopsie.PatientID'].notna() & (df['pet.PatientID'] == df['PatientID'])))"
   ]
  },
  {
   "cell_type": "code",
   "execution_count": 84,
   "id": "a0a409cf",
   "metadata": {},
   "outputs": [],
   "source": [
    "remove_dup_cols = ['date treatment.TypeTX', 'date treatment.PatientId', \n",
    "                   'all patients.PatientId','RecInvbiopsie.PatientID','pet.PatientID']\n",
    "df = df.drop(columns=remove_dup_cols)"
   ]
  },
  {
   "cell_type": "markdown",
   "id": "cfa20eab",
   "metadata": {},
   "source": [
    "## 4. Rename & Re-Order Columns"
   ]
  },
  {
   "cell_type": "markdown",
   "id": "65548edc",
   "metadata": {},
   "source": [
    "_More automated way to rename the columns (but I am not using this currently)._"
   ]
  },
  {
   "cell_type": "code",
   "execution_count": null,
   "id": "40be83ed",
   "metadata": {},
   "outputs": [],
   "source": [
    "# col_list = list(df.columns)\n",
    "# df = df.rename(columns=lambda x: x.replace(\"all patients.\", \"\"))\n",
    "# col_list = list(df.columns)\n",
    "# col_list = [re.sub(r'([a-z])([A-Z])', r'\\1_\\2', col).lower() for col in col_list]\n",
    "# col_list = [s.rstrip() for s in col_list]\n",
    "# col_list = [s.replace(\"  \", \" \") for s in col_list]\n",
    "# col_list = [s.replace(\" \", \"_\") for s in col_list]\n",
    "# col_list = [s.replace(\"aps\", \"psa\") for s in col_list]\n",
    "# col_list = [s.replace(\"treatment\", \"tx\") for s in col_list]\n",
    "# col_list = [s.replace(\"biopsie\", \"biopsy\") for s in col_list]\n",
    "# col_list = [s.replace(\"resultat\", \"result\") for s in col_list]\n",
    "\n",
    "# # Rename dataframe columns\n",
    "# df.columns = col_list"
   ]
  },
  {
   "cell_type": "code",
   "execution_count": 87,
   "id": "3df2e85d",
   "metadata": {},
   "outputs": [],
   "source": [
    "df = df.rename(columns={\n",
    "    'PatientID':'patient_id',\n",
    "    'all patients.Age':'tx-age',\n",
    "    'all patients.ÉchantPélevés':'tx-biopsy_num_samples',\n",
    "    'all patients.ÉchantPositifs':'tx-biopsy_num_positive',\n",
    "    'all patients.GleasonTotal':'tx-gleason_total',\n",
    "    'all patients.T':'tx-t_stage',\n",
    "    'all patients.protocole':'tx-protocol',\n",
    "    'date treatment.DateBrachy':'tx-date',\n",
    "    'all patients.TypeTX':'tx-type',\n",
    "    'all patients.DoseTotalProstate':'tx-total_dose_prostate',\n",
    "    'all patients.D28VolD90': 'tx-d28_vol_d90',\n",
    "    'all patients.D28VolV100':'tx-d28_vol_v100',\n",
    "    'all patients.ADT':'tx-adt',\n",
    "    'all patients.ApsMonth':'psa-time_since_tx',\n",
    "    'all patients.Aps':'psa-val',\n",
    "    'all patients.nadiraps02':'psa-nadir_02',\n",
    "    'all patients.nadiraps05':'psa-nadir_05',\n",
    "    'all patients.CAPRA':'psa-capra_total',\n",
    "    'all patients.aps_capra':'psa-capra_psa',\n",
    "    'all patients.gleason_capra':'psa-capra_gleason',\n",
    "    'all patients.tstage_capra':'psa-capra_t_stage',\n",
    "    'all patients.biopsy_capra':'psa-capra_biopsy',\n",
    "    'all patients.age_capra':'psa-capra_age',\n",
    "    'all patients.ddeces':'date_death',\n",
    "    'all patients.biochemical recurrence':'bf-date',\n",
    "    'DateRecInvIRM':'mri_1-date',\n",
    "    'ResultatIRMRecInv':'mri_1-result',\n",
    "    'PIRADSLesionRecInv':'mri_1-pirads_score',\n",
    "    'VolProstateIRM':'mri_1-prostate_vol',\n",
    "    'PSA':'mri_1-psa',\n",
    "    '2nd_MRI_Date':'mri_2-date',\n",
    "    '2nd_MRI_Result':'mri_2-result',\n",
    "    '2nd_MRI_Vol':'mri_2-prostate_vol',\n",
    "    '2nd_MRI_PSA':'mri_2-psa',\n",
    "    '3rd_MRI_Date':'mri_3-date',\n",
    "    '3rd_MRI_Result':'mri_3-result',\n",
    "    '3rd_MRI_Vol':'mri_3-prostate_vol',\n",
    "    '3rd_MRI_PSA':'mri_3-psa',\n",
    "    '4th_MRI_Date':'mri_4-date',\n",
    "    '4th_MRI_Result':'mri_4-result',\n",
    "    '4th_MRI_Vol':'mri_4-prostate_vol',\n",
    "    '4th_MRI_PSA':'mri_4-psa',\n",
    "    'RecInvbiopsie.DateRecInvBiopsie':'biopsy-date',\n",
    "    'RecInvbiopsie.ResultatRecInvBiopsie':'biopsy-result',\n",
    "    'RecInvbiopsie.GleasonPrimRecInv':'biopsy-gleason_1ary',\n",
    "    'RecInvbiopsie.GleasonSecRecInv':'biopsy-gleason_2ary',\n",
    "    'RecInvbiopsie.GleasonTertRecInv':'biopsy-gleason_3ary',\n",
    "    'pet.DateRecInvRadiative':'pet-date',\n",
    "    'pet.ResultatRecInvRadiative':'pet-result'\n",
    "})"
   ]
  },
  {
   "cell_type": "markdown",
   "id": "194c1220",
   "metadata": {},
   "source": [
    "# To finish addressing:"
   ]
  },
  {
   "cell_type": "markdown",
   "id": "8226f9c2",
   "metadata": {},
   "source": [
    "### Quick look at initially cleaned dataset + metadata"
   ]
  },
  {
   "cell_type": "markdown",
   "id": "203ac67a",
   "metadata": {},
   "source": [
    "### Preproc: Duplicate Patients\n",
    "* `2060194`: duplicates are NOT the same; later biopsy (RecInvbiopsie.ResultatRecInvBiopsie; 2015) was positive.\n",
    "* `2054846`: duplicates are NOT the same; later biopsy (RecInvbiopsie.ResultatRecInvBiopsie; 2021) was positive.\n",
    "* `2205490`: duplicates are NOT the same; biopsy (RecOmvbiopsie.Column8)in 2018 was positive"
   ]
  },
  {
   "cell_type": "markdown",
   "id": "15792511",
   "metadata": {},
   "source": [
    "### Preproc: save file with date and time in SPECIFIC TIME ZONE"
   ]
  },
  {
   "cell_type": "markdown",
   "id": "18e14f00",
   "metadata": {},
   "source": [
    "### Preproc:  add column of ratio b/w positive samples and samples taken!"
   ]
  },
  {
   "cell_type": "markdown",
   "id": "47009baf",
   "metadata": {},
   "source": [
    "### \"Converters\" Patients who initially had a +ve MRI that became negative\n",
    "* `7049838`: LDR, +ve 1st MRI, +ve 2nd MRI, ? 3rd MRI, -ve 4th MRI, –ve recurrence biopsy.\n",
    "* `7051280`: HDR, +ve 1st MRI, +ve 2nd MRI, –ve 3rd MRI, –ve recurrence biopsy.\n",
    "* `5519879`: LDR, +ve 1st MRI, –ve 2nd MRI, ??? recurrence biopsy.\n",
    "\n",
    "STRATEGY: try to include, then exclude. Add column called \"converter\". Mention in discussion."
   ]
  },
  {
   "cell_type": "markdown",
   "id": "ea77e274",
   "metadata": {},
   "source": [
    "### Analysis:\n",
    "- Stratify by Tx type?\n",
    "- Positive recurrence: keep data of initial positive MRI and initial positive biopsy (plus time between!!!).\n",
    "- Add data from downstream positives as extra patient (but mention it is a duplicate).\n",
    "- Negative (no recurrence): keep data of latest negative."
   ]
  },
  {
   "cell_type": "markdown",
   "id": "3885f8a9",
   "metadata": {},
   "source": [
    "### Weird patients\n",
    "Note that by MRI #2, these patient's PSA levels almost doubled!\n",
    "* `2102593`: +ve 1st MRI, +ve 2nd MRI PSA LEVELS DOUBLE, +ve biopsy\n",
    "* `2205490`: +ve 1st MRI, +ve 2nd MRI, –ve biopsy\n",
    "* `2162006`: +ve 1st MRI, +ve 2nd MRI, –ve biopsy"
   ]
  },
  {
   "cell_type": "code",
   "execution_count": null,
   "id": "fa27fd4e",
   "metadata": {},
   "outputs": [],
   "source": []
  },
  {
   "cell_type": "code",
   "execution_count": null,
   "id": "f6b0fb8e",
   "metadata": {},
   "outputs": [],
   "source": []
  }
 ],
 "metadata": {
  "kernelspec": {
   "display_name": "Python 3 (ipykernel)",
   "language": "python",
   "name": "python3"
  },
  "language_info": {
   "codemirror_mode": {
    "name": "ipython",
    "version": 3
   },
   "file_extension": ".py",
   "mimetype": "text/x-python",
   "name": "python",
   "nbconvert_exporter": "python",
   "pygments_lexer": "ipython3",
   "version": "3.10.14"
  }
 },
 "nbformat": 4,
 "nbformat_minor": 5
}
