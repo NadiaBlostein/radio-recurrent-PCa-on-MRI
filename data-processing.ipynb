{
 "cells": [
  {
   "cell_type": "code",
   "execution_count": null,
   "id": "18c7408e",
   "metadata": {},
   "outputs": [],
   "source": [
    "import pandas as pd\n",
    "import plotly.express as px\n",
    "from datetime import datetime\n",
    "from collections import Counter\n",
    "import re"
   ]
  },
  {
   "cell_type": "markdown",
   "id": "5deb8e0a",
   "metadata": {},
   "source": [
    "## Acronyms & nomenclature\n",
    "* `Rec`: Réception (ou enregistrement).\n",
    "* `Inv`: Investigation (ou examen).\n",
    "\n",
    "## Sample size N = 110"
   ]
  },
  {
   "cell_type": "markdown",
   "id": "b284a44b",
   "metadata": {},
   "source": [
    "## 1. Read initial file sent to me"
   ]
  },
  {
   "cell_type": "code",
   "execution_count": null,
   "id": "2e66f0c4",
   "metadata": {},
   "outputs": [],
   "source": [
    "df = pd.read_excel('Everything merged 18.12._new.xlsx')\n",
    "print(df.shape)\n",
    "df.head()"
   ]
  },
  {
   "cell_type": "markdown",
   "id": "8b86a311",
   "metadata": {},
   "source": [
    "## 2. Remove empty columns\n",
    "9 empty columns removed: `['Column8', 'Column12', 'Column15', 'Column18', 'Column19', '4th mri date', 'Column25', 'RecInvbiopsie.PSA', 'all patients.causedeces']`"
   ]
  },
  {
   "cell_type": "code",
   "execution_count": null,
   "id": "461dc395",
   "metadata": {},
   "outputs": [],
   "source": [
    "empty_cols = df.columns[df.isna().all()].tolist()\n",
    "print(empty_cols)"
   ]
  },
  {
   "cell_type": "code",
   "execution_count": null,
   "id": "a20e03ec",
   "metadata": {},
   "outputs": [],
   "source": [
    "df = df.drop(columns=empty_cols)"
   ]
  },
  {
   "cell_type": "markdown",
   "id": "b88eec83",
   "metadata": {},
   "source": [
    "## 3. Remove duplicate columns\n",
    "3 duplicate columns removed: `['date treatment.TypeTX', 'date treatment.PatientId', 'all patients.PatientId']`"
   ]
  },
  {
   "cell_type": "code",
   "execution_count": null,
   "id": "db6a25ea",
   "metadata": {},
   "outputs": [],
   "source": [
    "duplicate_cols = df.T.duplicated(keep=False)  # `keep=False` marks all duplicates\n",
    "dup_col_names = df.columns[duplicate_cols].tolist() # Get the names of duplicate columns\n",
    "\n",
    "for i,dup in enumerate(dup_col_names):\n",
    "    for j in range(i+1,len(dup_col_names)):\n",
    "        if df[dup].equals(df[dup_col_names[j]]): print(f\"{dup} EQUALS {dup_col_names[j]}\")"
   ]
  },
  {
   "cell_type": "code",
   "execution_count": null,
   "id": "1174b691",
   "metadata": {},
   "outputs": [],
   "source": [
    "print(len(df['RecInvbiopsie.PatientID'].notna() & (df['RecInvbiopsie.PatientID'] == df['PatientID'])))"
   ]
  },
  {
   "cell_type": "code",
   "execution_count": null,
   "id": "c147694b",
   "metadata": {},
   "outputs": [],
   "source": [
    "print(len(df['RecInvbiopsie.PatientID'].notna() & (df['pet.PatientID'] == df['PatientID'])))"
   ]
  },
  {
   "cell_type": "code",
   "execution_count": null,
   "id": "a0a409cf",
   "metadata": {},
   "outputs": [],
   "source": [
    "remove_dup_cols = ['date treatment.TypeTX', 'date treatment.PatientId', \n",
    "                   'all patients.PatientId','RecInvbiopsie.PatientID','pet.PatientID']\n",
    "df = df.drop(columns=remove_dup_cols)"
   ]
  },
  {
   "cell_type": "markdown",
   "id": "cfa20eab",
   "metadata": {},
   "source": [
    "## 4. Rename & Re-Order Columns"
   ]
  },
  {
   "cell_type": "markdown",
   "id": "65548edc",
   "metadata": {},
   "source": [
    "_More automated way to rename the columns (but I am not using this currently)._"
   ]
  },
  {
   "cell_type": "code",
   "execution_count": null,
   "id": "40be83ed",
   "metadata": {},
   "outputs": [],
   "source": [
    "# col_list = list(df.columns)\n",
    "# df = df.rename(columns=lambda x: x.replace(\"all patients.\", \"\"))\n",
    "# col_list = list(df.columns)\n",
    "# col_list = [re.sub(r'([a-z])([A-Z])', r'\\1_\\2', col).lower() for col in col_list]\n",
    "# col_list = [s.rstrip() for s in col_list]\n",
    "# col_list = [s.replace(\"  \", \" \") for s in col_list]\n",
    "# col_list = [s.replace(\" \", \"_\") for s in col_list]\n",
    "# col_list = [s.replace(\"aps\", \"psa\") for s in col_list]\n",
    "# col_list = [s.replace(\"treatment\", \"tx\") for s in col_list]\n",
    "# col_list = [s.replace(\"biopsie\", \"biopsy\") for s in col_list]\n",
    "# col_list = [s.replace(\"resultat\", \"result\") for s in col_list]\n",
    "\n",
    "# # Rename dataframe columns\n",
    "# df.columns = col_list"
   ]
  },
  {
   "cell_type": "code",
   "execution_count": null,
   "id": "3df2e85d",
   "metadata": {},
   "outputs": [],
   "source": [
    "df = df.rename(columns={\n",
    "    'PatientID':'patient_id',\n",
    "    'all patients.Age':'tx-age',\n",
    "    'all patients.ÉchantPélevés':'tx-biopsy_num_samples',\n",
    "    'all patients.ÉchantPositifs':'tx-biopsy_num_positive',\n",
    "    'all patients.GleasonTotal':'tx-gleason_total',\n",
    "    'all patients.T':'tx-t_stage',\n",
    "    'all patients.protocole':'tx-protocol',\n",
    "    'date treatment.DateBrachy':'tx-date',\n",
    "    'all patients.TypeTX':'tx-type',\n",
    "    'all patients.DoseTotalProstate':'tx-total_dose_prostate',\n",
    "    'all patients.D28VolD90': 'tx-d28_vol_d90',\n",
    "    'all patients.D28VolV100':'tx-d28_vol_v100',\n",
    "    'all patients.ADT':'tx-adt',\n",
    "    'all patients.ApsMonth':'psa-time_since_tx',\n",
    "    'all patients.Aps':'psa-val',\n",
    "    'all patients.nadiraps02':'psa-nadir_02',\n",
    "    'all patients.nadiraps05':'psa-nadir_05',\n",
    "    'all patients.CAPRA':'psa-capra_total',\n",
    "    'all patients.aps_capra':'psa-capra_psa',\n",
    "    'all patients.gleason_capra':'psa-capra_gleason',\n",
    "    'all patients.tstage_capra':'psa-capra_t_stage',\n",
    "    'all patients.biopsy_capra':'psa-capra_biopsy',\n",
    "    'all patients.age_capra':'psa-capra_age',\n",
    "    'all patients.ddeces':'date_death',\n",
    "    'all patients.biochemical recurrence':'bf-date',\n",
    "    'DateRecInvIRM':'mri_1-date',\n",
    "    'ResultatIRMRecInv':'mri_1-result',\n",
    "    'PIRADSLesionRecInv':'mri_1-pirads_score',\n",
    "    'VolProstateIRM':'mri_1-prostate_vol',\n",
    "    'PSA':'mri_1-psa',\n",
    "    '2nd_MRI_Date':'mri_2-date',\n",
    "    '2nd_MRI_Result':'mri_2-result',\n",
    "    '2nd_MRI_Vol':'mri_2-prostate_vol',\n",
    "    '2nd_MRI_PSA':'mri_2-psa',\n",
    "    '3rd_MRI_Date':'mri_3-date',\n",
    "    '3rd_MRI_Result':'mri_3-result',\n",
    "    '3rd_MRI_Vol':'mri_3-prostate_vol',\n",
    "    '3rd_MRI_PSA':'mri_3-psa',\n",
    "    '4th_MRI_Date':'mri_4-date',\n",
    "    '4th_MRI_Result':'mri_4-result',\n",
    "    '4th_MRI_Vol':'mri_4-prostate_vol',\n",
    "    '4th_MRI_PSA':'mri_4-psa',\n",
    "    'RecInvbiopsie.DateRecInvBiopsie':'biopsy-date',\n",
    "    'RecInvbiopsie.ResultatRecInvBiopsie':'biopsy-result',\n",
    "    'RecInvbiopsie.GleasonPrimRecInv':'biopsy-gleason_1ary',\n",
    "    'RecInvbiopsie.GleasonSecRecInv':'biopsy-gleason_2ary',\n",
    "    'RecInvbiopsie.GleasonTertRecInv':'biopsy-gleason_3ary',\n",
    "    'pet.DateRecInvRadiative':'pet-date',\n",
    "    'pet.ResultatRecInvRadiative':'pet-result'\n",
    "})"
   ]
  },
  {
   "cell_type": "code",
   "execution_count": null,
   "id": "f6b0fb8e",
   "metadata": {},
   "outputs": [],
   "source": []
  }
 ],
 "metadata": {
  "kernelspec": {
   "display_name": "Python 3 (ipykernel)",
   "language": "python",
   "name": "python3"
  },
  "language_info": {
   "codemirror_mode": {
    "name": "ipython",
    "version": 3
   },
   "file_extension": ".py",
   "mimetype": "text/x-python",
   "name": "python",
   "nbconvert_exporter": "python",
   "pygments_lexer": "ipython3",
   "version": "3.10.14"
  }
 },
 "nbformat": 4,
 "nbformat_minor": 5
}
